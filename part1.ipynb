{
 "cells": [
  {
   "cell_type": "markdown",
   "id": "a7679431",
   "metadata": {},
   "source": [
    "# Imports"
   ]
  },
  {
   "cell_type": "code",
   "execution_count": 1,
   "id": "642d5289",
   "metadata": {},
   "outputs": [],
   "source": [
    "from datasets import load_dataset\n",
    "import torch\n",
    "import nltk\n",
    "import string"
   ]
  },
  {
   "cell_type": "code",
   "execution_count": 2,
   "id": "aab18b2f",
   "metadata": {},
   "outputs": [
    {
     "name": "stdout",
     "output_type": "stream",
     "text": [
      "True\n",
      "NVIDIA GeForce RTX 4050 Laptop GPU\n"
     ]
    }
   ],
   "source": [
    "print(torch.cuda.is_available())\n",
    "print(torch.cuda.get_device_name(0))"
   ]
  },
  {
   "cell_type": "code",
   "execution_count": 3,
   "id": "9e2b9207",
   "metadata": {},
   "outputs": [
    {
     "name": "stderr",
     "output_type": "stream",
     "text": [
      "[nltk_data] Downloading package punkt to\n",
      "[nltk_data]     C:\\Users\\reda\\AppData\\Roaming\\nltk_data...\n",
      "[nltk_data]   Package punkt is already up-to-date!\n",
      "[nltk_data] Downloading package punkt_tab to\n",
      "[nltk_data]     C:\\Users\\reda\\AppData\\Roaming\\nltk_data...\n",
      "[nltk_data]   Package punkt_tab is already up-to-date!\n"
     ]
    },
    {
     "data": {
      "text/plain": [
       "True"
      ]
     },
     "execution_count": 28,
     "metadata": {},
     "output_type": "execute_result"
    }
   ],
   "source": [
    "nltk.download('punkt')\n",
    "nltk.download('punkt_tab')"
   ]
  },
  {
   "cell_type": "markdown",
   "id": "00552eee",
   "metadata": {},
   "source": [
    "## Downloading dataset"
   ]
  },
  {
   "cell_type": "code",
   "execution_count": 4,
   "id": "f3e3a8d2",
   "metadata": {},
   "outputs": [],
   "source": [
    "IMDB_Dataset = load_dataset(\"stanfordnlp/imdb\") #DatasetDict object"
   ]
  },
  {
   "cell_type": "markdown",
   "id": "3d7bdddd",
   "metadata": {},
   "source": [
    "### Understanding the data"
   ]
  },
  {
   "cell_type": "code",
   "execution_count": 5,
   "id": "11b626c8",
   "metadata": {},
   "outputs": [
    {
     "data": {
      "text/plain": [
       "DatasetDict({\n",
       "    train: Dataset({\n",
       "        features: ['text', 'label'],\n",
       "        num_rows: 25000\n",
       "    })\n",
       "    test: Dataset({\n",
       "        features: ['text', 'label'],\n",
       "        num_rows: 25000\n",
       "    })\n",
       "    unsupervised: Dataset({\n",
       "        features: ['text', 'label'],\n",
       "        num_rows: 50000\n",
       "    })\n",
       "})"
      ]
     },
     "execution_count": 30,
     "metadata": {},
     "output_type": "execute_result"
    }
   ],
   "source": [
    "IMDB_Dataset # contains 3 splits"
   ]
  },
  {
   "cell_type": "code",
   "execution_count": 6,
   "id": "27c44413",
   "metadata": {},
   "outputs": [
    {
     "data": {
      "text/plain": [
       "Dataset({\n",
       "    features: ['text', 'label'],\n",
       "    num_rows: 50000\n",
       "})"
      ]
     },
     "execution_count": 31,
     "metadata": {},
     "output_type": "execute_result"
    }
   ],
   "source": [
    "IMDB_Dataset['unsupervised']"
   ]
  },
  {
   "cell_type": "code",
   "execution_count": 7,
   "id": "f499e831",
   "metadata": {},
   "outputs": [
    {
     "data": {
      "text/plain": [
       "{'text': Value('string'), 'label': ClassLabel(names=['neg', 'pos'])}"
      ]
     },
     "execution_count": 32,
     "metadata": {},
     "output_type": "execute_result"
    }
   ],
   "source": [
    "IMDB_Dataset['unsupervised'].features"
   ]
  },
  {
   "cell_type": "code",
   "execution_count": 8,
   "id": "fd100cab",
   "metadata": {},
   "outputs": [
    {
     "data": {
      "text/plain": [
       "50000"
      ]
     },
     "execution_count": 33,
     "metadata": {},
     "output_type": "execute_result"
    }
   ],
   "source": [
    "IMDB_Dataset['unsupervised'].num_rows # number of \"documents\""
   ]
  },
  {
   "cell_type": "code",
   "execution_count": 9,
   "id": "506cfdfe",
   "metadata": {},
   "outputs": [
    {
     "name": "stdout",
     "output_type": "stream",
     "text": [
      "Row 0:\n",
      "{'text': 'This is just a precious little diamond. The play, the script are excellent. I cant compare this movie with anything else, maybe except the movie \"Leon\" wonderfully played by Jean Reno and Natalie Portman. But... What can I say about this one? This is the best movie Anne Parillaud has ever played in (See please \"Frankie Starlight\", she\\'s speaking English there) to see what I mean. The story of young punk girl Nikita, taken into the depraved world of the secret government forces has been exceptionally over used by Americans. Never mind the \"Point of no return\" and especially the \"La femme Nikita\" TV series. They cannot compare the original believe me! Trash these videos. Buy this one, do not rent it, BUY it. BTW beware of the subtitles of the LA company which \"translate\" the US release. What a disgrace! If you cant understand French, get a dubbed version. But you\\'ll regret later :)', 'label': -1}\n",
      "Text ALONE: This is just a precious little diamond. The play, the script are excellent. I cant compare this movie with anything else, maybe except the movie \"Leon\" wonderfully played by Jean Reno and Natalie Portman. But... What can I say about this one? This is the best movie Anne Parillaud has ever played in (See please \"Frankie Starlight\", she's speaking English there) to see what I mean. The story of young punk girl Nikita, taken into the depraved world of the secret government forces has been exceptionally over used by Americans. Never mind the \"Point of no return\" and especially the \"La femme Nikita\" TV series. They cannot compare the original believe me! Trash these videos. Buy this one, do not rent it, BUY it. BTW beware of the subtitles of the LA company which \"translate\" the US release. What a disgrace! If you cant understand French, get a dubbed version. But you'll regret later :)\n",
      "Label ALONE: -1\n",
      "----------------------------------------------------------------\n",
      "Row 1:\n",
      "{'text': 'When I say this is my favourite film of all time, that comment is not to be taken lightly. I probably watch far too many films than is healthy for me, and have loved quite a few of them. I first saw \"La Femme Nikita\" nearly ten years ago, and it still manages to be my absolute favourite. Why?<br /><br />This is more than an incredibly stylish and sexy thriller. Luc Besson\\'s great flair for impeccable direction, fashion, and appropriate usage of music makes this a very watchable film. But it is Anne Parillaud\\'s perfect rendering of a complex character who transforms from a heartless killer into a compassionate, vibrant young woman that makes this film beautiful. I can\\'t keep my eyes off of her when she is on screen.<br /><br />I have seen several of Luc Besson\\'s films including \"Subway\", \"The Professional\", and the irritating \"Fifth Element\", and \"Nikita\" is without a doubt, far superior to any of these. Although this film has tragic elements, it is ultimately extremely hopeful. It is the story of a person who is cruel and merciless, who ultimately comes to realize her own humanity and her own personal power. That, to me is extremely inspiring. If there is hope for Nikita, there is hope for all of us.', 'label': -1}\n",
      "Text ALONE: When I say this is my favourite film of all time, that comment is not to be taken lightly. I probably watch far too many films than is healthy for me, and have loved quite a few of them. I first saw \"La Femme Nikita\" nearly ten years ago, and it still manages to be my absolute favourite. Why?<br /><br />This is more than an incredibly stylish and sexy thriller. Luc Besson's great flair for impeccable direction, fashion, and appropriate usage of music makes this a very watchable film. But it is Anne Parillaud's perfect rendering of a complex character who transforms from a heartless killer into a compassionate, vibrant young woman that makes this film beautiful. I can't keep my eyes off of her when she is on screen.<br /><br />I have seen several of Luc Besson's films including \"Subway\", \"The Professional\", and the irritating \"Fifth Element\", and \"Nikita\" is without a doubt, far superior to any of these. Although this film has tragic elements, it is ultimately extremely hopeful. It is the story of a person who is cruel and merciless, who ultimately comes to realize her own humanity and her own personal power. That, to me is extremely inspiring. If there is hope for Nikita, there is hope for all of us.\n",
      "Label ALONE: -1\n",
      "----------------------------------------------------------------\n",
      "Row 2:\n",
      "{'text': 'I saw this movie because I am a huge fan of the TV series of the same name starring Roy Dupuis and Pet Wilson. The movie was really good and I saw how the TV show is based on the movie. A few episodes of the TV series came directly from the movie and their similarity was amazing. To keep things short, any fan of the movie has to watch the series and any fan of the series must see the original Nikita.', 'label': -1}\n",
      "Text ALONE: I saw this movie because I am a huge fan of the TV series of the same name starring Roy Dupuis and Pet Wilson. The movie was really good and I saw how the TV show is based on the movie. A few episodes of the TV series came directly from the movie and their similarity was amazing. To keep things short, any fan of the movie has to watch the series and any fan of the series must see the original Nikita.\n",
      "Label ALONE: -1\n",
      "----------------------------------------------------------------\n",
      "Row 3:\n",
      "{'text': \"Being that the only foreign films I usually like star a Japanese person in a rubber suit who crushes little tiny buildings and tanks, I had high hopes for this movie. I thought that this was a movie that wouldn't put me to sleep. WRONG! Starts off with a bang, okay, now she's in training, alright, she's an assassin, I'm still with you, oh, now she's having this moral dilemma and she can't decide if she loves her boyfriend or her controller, zzzzz.... Oh well, back to Gamera!\", 'label': -1}\n",
      "Text ALONE: Being that the only foreign films I usually like star a Japanese person in a rubber suit who crushes little tiny buildings and tanks, I had high hopes for this movie. I thought that this was a movie that wouldn't put me to sleep. WRONG! Starts off with a bang, okay, now she's in training, alright, she's an assassin, I'm still with you, oh, now she's having this moral dilemma and she can't decide if she loves her boyfriend or her controller, zzzzz.... Oh well, back to Gamera!\n",
      "Label ALONE: -1\n",
      "----------------------------------------------------------------\n",
      "Row 4:\n",
      "{'text': \"After seeing Point of No Return (a great movie) and being told that the original was better, I was certainly thrilled to see that one of the indie film channels was running La Femme Nikita. Then I saw the movie. Ouch! This was a major let-down.<br /><br />Nikita herself reminds me of Jar Jar Binks more than any other character I've seen recently. She comes across entirely as comic relief. The movie simply has nothing to recommend it besides the core concept of an evil, inhuman character paradoxically learning to be human while training as an assassin, and that concept failed miserably in Nikita due to the poor writing of the title role.\", 'label': -1}\n",
      "Text ALONE: After seeing Point of No Return (a great movie) and being told that the original was better, I was certainly thrilled to see that one of the indie film channels was running La Femme Nikita. Then I saw the movie. Ouch! This was a major let-down.<br /><br />Nikita herself reminds me of Jar Jar Binks more than any other character I've seen recently. She comes across entirely as comic relief. The movie simply has nothing to recommend it besides the core concept of an evil, inhuman character paradoxically learning to be human while training as an assassin, and that concept failed miserably in Nikita due to the poor writing of the title role.\n",
      "Label ALONE: -1\n",
      "----------------------------------------------------------------\n"
     ]
    }
   ],
   "source": [
    "for i in range(5):\n",
    "    print(f\"Row {i}:\")\n",
    "    print(f\"{IMDB_Dataset['unsupervised'][i]}\")\n",
    "    print(f\"Text ALONE: {IMDB_Dataset['unsupervised']['text'][i]}\")\n",
    "    print(f\"Label ALONE: {IMDB_Dataset['unsupervised']['label'][i]}\")\n",
    "    print(\"----------------------------------------------------------------\")"
   ]
  },
  {
   "cell_type": "code",
   "execution_count": 10,
   "id": "4ca621a9",
   "metadata": {},
   "outputs": [],
   "source": [
    "# for convenience\n",
    "dataset = IMDB_Dataset"
   ]
  },
  {
   "cell_type": "markdown",
   "id": "bf9a4e1a",
   "metadata": {},
   "source": [
    "### Text only"
   ]
  },
  {
   "cell_type": "code",
   "execution_count": 11,
   "id": "0643d280",
   "metadata": {},
   "outputs": [],
   "source": [
    "dataset_text = dataset['unsupervised']['text']"
   ]
  },
  {
   "cell_type": "code",
   "execution_count": 12,
   "id": "593c6f00",
   "metadata": {},
   "outputs": [
    {
     "name": "stdout",
     "output_type": "stream",
     "text": [
      "Text 0\n",
      "This is just a precious little diamond. The play, the script are excellent. I cant compare this movie with anything else, maybe except the movie \"Leon\" wonderfully played by Jean Reno and Natalie Portman. But... What can I say about this one? This is the best movie Anne Parillaud has ever played in (See please \"Frankie Starlight\", she's speaking English there) to see what I mean. The story of young punk girl Nikita, taken into the depraved world of the secret government forces has been exceptionally over used by Americans. Never mind the \"Point of no return\" and especially the \"La femme Nikita\" TV series. They cannot compare the original believe me! Trash these videos. Buy this one, do not rent it, BUY it. BTW beware of the subtitles of the LA company which \"translate\" the US release. What a disgrace! If you cant understand French, get a dubbed version. But you'll regret later :)\n",
      "Text 1\n",
      "When I say this is my favourite film of all time, that comment is not to be taken lightly. I probably watch far too many films than is healthy for me, and have loved quite a few of them. I first saw \"La Femme Nikita\" nearly ten years ago, and it still manages to be my absolute favourite. Why?<br /><br />This is more than an incredibly stylish and sexy thriller. Luc Besson's great flair for impeccable direction, fashion, and appropriate usage of music makes this a very watchable film. But it is Anne Parillaud's perfect rendering of a complex character who transforms from a heartless killer into a compassionate, vibrant young woman that makes this film beautiful. I can't keep my eyes off of her when she is on screen.<br /><br />I have seen several of Luc Besson's films including \"Subway\", \"The Professional\", and the irritating \"Fifth Element\", and \"Nikita\" is without a doubt, far superior to any of these. Although this film has tragic elements, it is ultimately extremely hopeful. It is the story of a person who is cruel and merciless, who ultimately comes to realize her own humanity and her own personal power. That, to me is extremely inspiring. If there is hope for Nikita, there is hope for all of us.\n",
      "Text 2\n",
      "I saw this movie because I am a huge fan of the TV series of the same name starring Roy Dupuis and Pet Wilson. The movie was really good and I saw how the TV show is based on the movie. A few episodes of the TV series came directly from the movie and their similarity was amazing. To keep things short, any fan of the movie has to watch the series and any fan of the series must see the original Nikita.\n",
      "Text 3\n",
      "Being that the only foreign films I usually like star a Japanese person in a rubber suit who crushes little tiny buildings and tanks, I had high hopes for this movie. I thought that this was a movie that wouldn't put me to sleep. WRONG! Starts off with a bang, okay, now she's in training, alright, she's an assassin, I'm still with you, oh, now she's having this moral dilemma and she can't decide if she loves her boyfriend or her controller, zzzzz.... Oh well, back to Gamera!\n",
      "Text 4\n",
      "After seeing Point of No Return (a great movie) and being told that the original was better, I was certainly thrilled to see that one of the indie film channels was running La Femme Nikita. Then I saw the movie. Ouch! This was a major let-down.<br /><br />Nikita herself reminds me of Jar Jar Binks more than any other character I've seen recently. She comes across entirely as comic relief. The movie simply has nothing to recommend it besides the core concept of an evil, inhuman character paradoxically learning to be human while training as an assassin, and that concept failed miserably in Nikita due to the poor writing of the title role.\n"
     ]
    }
   ],
   "source": [
    "for i in range(5):\n",
    "    print(\"Text\",i)\n",
    "    print(dataset_text[i])"
   ]
  },
  {
   "cell_type": "code",
   "execution_count": 13,
   "id": "a4f32742",
   "metadata": {},
   "outputs": [
    {
     "data": {
      "text/plain": [
       "50000"
      ]
     },
     "execution_count": 38,
     "metadata": {},
     "output_type": "execute_result"
    }
   ],
   "source": [
    "len(dataset_text) # 50k strings "
   ]
  },
  {
   "cell_type": "markdown",
   "id": "7fd75cf0",
   "metadata": {},
   "source": [
    "# Actual Work"
   ]
  },
  {
   "cell_type": "markdown",
   "id": "c0fa64a5",
   "metadata": {},
   "source": [
    "## Step 1: Data Preprocessing"
   ]
  },
  {
   "cell_type": "markdown",
   "id": "3c8d2eb8",
   "metadata": {},
   "source": [
    "### Different Methods of Tokenization"
   ]
  },
  {
   "cell_type": "code",
   "execution_count": 14,
   "id": "b7683845",
   "metadata": {},
   "outputs": [
    {
     "name": "stdout",
     "output_type": "stream",
     "text": [
      "Before tokenization: This is just a precious little diamond. The play, the script are excellent. I cant compare this movie with anything else, maybe except the movie \"Leon\" wonderfully played by Jean Reno and Natalie Portman. But... What can I say about this one? This is the best movie Anne Parillaud has ever played in (See please \"Frankie Starlight\", she's speaking English there) to see what I mean. The story of young punk girl Nikita, taken into the depraved world of the secret government forces has been exceptionally over used by Americans. Never mind the \"Point of no return\" and especially the \"La femme Nikita\" TV series. They cannot compare the original believe me! Trash these videos. Buy this one, do not rent it, BUY it. BTW beware of the subtitles of the LA company which \"translate\" the US release. What a disgrace! If you cant understand French, get a dubbed version. But you'll regret later :)\n"
     ]
    }
   ],
   "source": [
    "print(\"Before tokenization:\", dataset_text[0])"
   ]
  },
  {
   "cell_type": "code",
   "execution_count": 15,
   "id": "503042f9",
   "metadata": {},
   "outputs": [
    {
     "name": "stdout",
     "output_type": "stream",
     "text": [
      "First few tokens using .split(): ['This', 'is', 'just', 'a', 'precious', 'little', 'diamond.', 'The', 'play,', 'the', 'script', 'are', 'excellent.', 'I', 'cant']\n"
     ]
    }
   ],
   "source": [
    "# OPTION 1\n",
    "# will not use this tokenization because it leaves out punctuations\n",
    "simple_tokens = dataset_text[0].split()\n",
    "print(\"First few tokens using .split():\",simple_tokens[:15])"
   ]
  },
  {
   "cell_type": "code",
   "execution_count": 16,
   "id": "0f3d1434",
   "metadata": {},
   "outputs": [
    {
     "name": "stdout",
     "output_type": "stream",
     "text": [
      "First few tokens using nltk.tokenize.word_tokenize(): ['This', 'is', 'just', 'a', 'precious', 'little', 'diamond', '.', 'The', 'play', ',', 'the', 'script', 'are', 'excellent']\n"
     ]
    }
   ],
   "source": [
    "# OPTION 2\n",
    "# Better alternative using Natural Language Tool Kit \n",
    "# -> tokenizes into words and punctuation -- not actual tokens\n",
    "nltk_tokens = nltk.tokenize.word_tokenize(dataset_text[0])\n",
    "print(\"First few tokens using nltk.tokenize.word_tokenize():\", nltk_tokens[:15])"
   ]
  },
  {
   "cell_type": "code",
   "execution_count": 17,
   "id": "e65f4f4f",
   "metadata": {},
   "outputs": [
    {
     "name": "stdout",
     "output_type": "stream",
     "text": [
      "['this', 'is', 'just', 'a', 'precious', 'little', 'diamond', 'the', 'play', 'the', 'script', 'are', 'excellent', 'i', 'cant']\n"
     ]
    }
   ],
   "source": [
    "# testing normalization\n",
    "punctuation = set(string.punctuation)\n",
    "\n",
    "# 1. Lowercase the token\n",
    "# 2. Filter out tokens that are only punctuation\n",
    "\n",
    "test_normalized_tokens = [\n",
    "    token.lower() for token in nltk_tokens if token not in punctuation\n",
    "]\n",
    "\n",
    "print(test_normalized_tokens[:15])"
   ]
  },
  {
   "cell_type": "code",
   "execution_count": 18,
   "id": "f5ab48fc",
   "metadata": {},
   "outputs": [],
   "source": [
    "# OPTION 3: Advanced Tokenization --- maybe not?"
   ]
  },
  {
   "cell_type": "markdown",
   "id": "ad8b416b",
   "metadata": {},
   "source": [
    "### Tokenization and Text Normalization"
   ]
  },
  {
   "cell_type": "code",
   "execution_count": null,
   "id": "37886f19",
   "metadata": {},
   "outputs": [],
   "source": [
    "# I WILL USE OPTION 2: AT LEAST FOR NOW-- because it is the simplest and can be used to remove punctuation \n",
    "l = len(dataset_text)\n",
    "\n",
    "punctuation_to_filter = set(string.punctuation)\n",
    "# punctuation that slips through\n",
    "punctuation_to_filter.add(\"''\")\n",
    "punctuation_to_filter.add(\"``\")\n",
    "punctuation_to_filter.add(\"--\")\n",
    "punctuation_to_filter.add(\"'-\")\n",
    "punctuation_to_filter.add(\"'.\")\n",
    "\n",
    "normalized_tokens = [[] for _ in range(l)]\n",
    "doc_tokens = ['']*l\n",
    "\n",
    "for i in range(l):\n",
    "    doc_tokens[i] = nltk.tokenize.word_tokenize(dataset_text[i]) # tokenizing to words and punctuation\n",
    "    normalized_tokens[i] = [token.lower() for token in doc_tokens[i] if token not in punctuation_to_filter] # lower case and filter punctuation"
   ]
  },
  {
   "cell_type": "code",
   "execution_count": 20,
   "id": "5f9ba38f",
   "metadata": {},
   "outputs": [
    {
     "name": "stdout",
     "output_type": "stream",
     "text": [
      "['When', 'I', 'say', 'this', 'is', 'my', 'favourite', 'film', 'of', 'all', 'time', ',', 'that', 'comment', 'is', 'not', 'to', 'be', 'taken', 'lightly', '.', 'I', 'probably', 'watch', 'far', 'too', 'many', 'films', 'than', 'is', 'healthy', 'for', 'me', ',', 'and', 'have', 'loved', 'quite', 'a', 'few', 'of', 'them', '.', 'I', 'first', 'saw', '``', 'La', 'Femme', 'Nikita', \"''\", 'nearly', 'ten', 'years', 'ago', ',', 'and', 'it', 'still', 'manages', 'to', 'be', 'my', 'absolute', 'favourite', '.', 'Why', '?', '<', 'br', '/', '>', '<', 'br', '/', '>', 'This', 'is', 'more', 'than', 'an', 'incredibly', 'stylish', 'and', 'sexy', 'thriller', '.', 'Luc', 'Besson', \"'s\", 'great', 'flair', 'for', 'impeccable', 'direction', ',', 'fashion', ',', 'and', 'appropriate', 'usage', 'of', 'music', 'makes', 'this', 'a', 'very', 'watchable', 'film', '.', 'But', 'it', 'is', 'Anne', 'Parillaud', \"'s\", 'perfect', 'rendering', 'of', 'a', 'complex', 'character', 'who', 'transforms', 'from', 'a', 'heartless', 'killer', 'into', 'a', 'compassionate', ',', 'vibrant', 'young', 'woman', 'that', 'makes', 'this', 'film', 'beautiful', '.', 'I', 'ca', \"n't\", 'keep', 'my', 'eyes', 'off', 'of', 'her', 'when', 'she', 'is', 'on', 'screen.', '<', 'br', '/', '>', '<', 'br', '/', '>', 'I', 'have', 'seen', 'several', 'of', 'Luc', 'Besson', \"'s\", 'films', 'including', '``', 'Subway', \"''\", ',', '``', 'The', 'Professional', \"''\", ',', 'and', 'the', 'irritating', '``', 'Fifth', 'Element', \"''\", ',', 'and', '``', 'Nikita', \"''\", 'is', 'without', 'a', 'doubt', ',', 'far', 'superior', 'to', 'any', 'of', 'these', '.', 'Although', 'this', 'film', 'has', 'tragic', 'elements', ',', 'it', 'is', 'ultimately', 'extremely', 'hopeful', '.', 'It', 'is', 'the', 'story', 'of', 'a', 'person', 'who', 'is', 'cruel', 'and', 'merciless', ',', 'who', 'ultimately', 'comes', 'to', 'realize', 'her', 'own', 'humanity', 'and', 'her', 'own', 'personal', 'power', '.', 'That', ',', 'to', 'me', 'is', 'extremely', 'inspiring', '.', 'If', 'there', 'is', 'hope', 'for', 'Nikita', ',', 'there', 'is', 'hope', 'for', 'all', 'of', 'us', '.']\n",
      "['when', 'i', 'say', 'this', 'is', 'my', 'favourite', 'film', 'of', 'all', 'time', 'that', 'comment', 'is', 'not', 'to', 'be', 'taken', 'lightly', 'i', 'probably', 'watch', 'far', 'too', 'many', 'films', 'than', 'is', 'healthy', 'for', 'me', 'and', 'have', 'loved', 'quite', 'a', 'few', 'of', 'them', 'i', 'first', 'saw', 'la', 'femme', 'nikita', 'nearly', 'ten', 'years', 'ago', 'and', 'it', 'still', 'manages', 'to', 'be', 'my', 'absolute', 'favourite', 'why', 'br', 'br', 'this', 'is', 'more', 'than', 'an', 'incredibly', 'stylish', 'and', 'sexy', 'thriller', 'luc', 'besson', \"'s\", 'great', 'flair', 'for', 'impeccable', 'direction', 'fashion', 'and', 'appropriate', 'usage', 'of', 'music', 'makes', 'this', 'a', 'very', 'watchable', 'film', 'but', 'it', 'is', 'anne', 'parillaud', \"'s\", 'perfect', 'rendering', 'of', 'a', 'complex', 'character', 'who', 'transforms', 'from', 'a', 'heartless', 'killer', 'into', 'a', 'compassionate', 'vibrant', 'young', 'woman', 'that', 'makes', 'this', 'film', 'beautiful', 'i', 'ca', \"n't\", 'keep', 'my', 'eyes', 'off', 'of', 'her', 'when', 'she', 'is', 'on', 'screen.', 'br', 'br', 'i', 'have', 'seen', 'several', 'of', 'luc', 'besson', \"'s\", 'films', 'including', 'subway', 'the', 'professional', 'and', 'the', 'irritating', 'fifth', 'element', 'and', 'nikita', 'is', 'without', 'a', 'doubt', 'far', 'superior', 'to', 'any', 'of', 'these', 'although', 'this', 'film', 'has', 'tragic', 'elements', 'it', 'is', 'ultimately', 'extremely', 'hopeful', 'it', 'is', 'the', 'story', 'of', 'a', 'person', 'who', 'is', 'cruel', 'and', 'merciless', 'who', 'ultimately', 'comes', 'to', 'realize', 'her', 'own', 'humanity', 'and', 'her', 'own', 'personal', 'power', 'that', 'to', 'me', 'is', 'extremely', 'inspiring', 'if', 'there', 'is', 'hope', 'for', 'nikita', 'there', 'is', 'hope', 'for', 'all', 'of', 'us']\n"
     ]
    }
   ],
   "source": [
    "print(doc_tokens[1])\n",
    "print(normalized_tokens[1])\n",
    "# problems like <br> <> removed but br kept\n",
    "# limitations like n't, '99, 're, 's will have to stay"
   ]
  },
  {
   "cell_type": "markdown",
   "id": "3495790e",
   "metadata": {},
   "source": [
    "## Constructing N-Gram Model"
   ]
  },
  {
   "cell_type": "markdown",
   "id": "98c61cc8",
   "metadata": {},
   "source": [
    "### Unigram Model"
   ]
  },
  {
   "cell_type": "code",
   "execution_count": 21,
   "id": "78ac2f4a",
   "metadata": {},
   "outputs": [
    {
     "name": "stdout",
     "output_type": "stream",
     "text": [
      "12060456\n"
     ]
    }
   ],
   "source": [
    "# Assuming greedy generation\n",
    "# P(w) = count(w)/count(corpus)\n",
    "\n",
    "count_corpus = sum(len(document_tokens) for document_tokens in normalized_tokens)\n",
    "print(count_corpus)\n"
   ]
  },
  {
   "cell_type": "code",
   "execution_count": 79,
   "id": "0642ccf4",
   "metadata": {},
   "outputs": [],
   "source": [
    "# count w\n",
    "def count_word(word_to_count):\n",
    "    return sum(1 for document_token in normalized_tokens for word in document_token if word == word_to_count)"
   ]
  },
  {
   "cell_type": "code",
   "execution_count": 23,
   "id": "8e67c4e7",
   "metadata": {},
   "outputs": [],
   "source": [
    "# need to look through all words and get the maximum.\n",
    "# need to get a list of the vocabulary: unique words \n",
    "vocabulary = set(word for document_tokens in normalized_tokens for word in document_tokens) # Make a set of the flattened words"
   ]
  },
  {
   "cell_type": "code",
   "execution_count": null,
   "id": "edb3097c",
   "metadata": {},
   "outputs": [
    {
     "name": "stdout",
     "output_type": "stream",
     "text": [
      "166753\n"
     ]
    }
   ],
   "source": [
    "print(len(vocabulary))"
   ]
  },
  {
   "cell_type": "code",
   "execution_count": null,
   "id": "a4317783",
   "metadata": {},
   "outputs": [
    {
     "ename": "KeyboardInterrupt",
     "evalue": "",
     "output_type": "error",
     "traceback": [
      "\u001b[31m---------------------------------------------------------------------------\u001b[39m",
      "\u001b[31mKeyboardInterrupt\u001b[39m                         Traceback (most recent call last)",
      "\u001b[36mCell\u001b[39m\u001b[36m \u001b[39m\u001b[32mIn[85]\u001b[39m\u001b[32m, line 8\u001b[39m\n\u001b[32m      6\u001b[39m sum_ = \u001b[32m0\u001b[39m\n\u001b[32m      7\u001b[39m \u001b[38;5;28;01mfor\u001b[39;00m word \u001b[38;5;129;01min\u001b[39;00m vocabulary:\n\u001b[32m----> \u001b[39m\u001b[32m8\u001b[39m     count_uni_dict[word] = \u001b[43mcount_word\u001b[49m\u001b[43m(\u001b[49m\u001b[43mword\u001b[49m\u001b[43m)\u001b[49m\n\u001b[32m      9\u001b[39m     sum_ += count_uni_dict[word]\n\u001b[32m     10\u001b[39m \u001b[38;5;28mprint\u001b[39m(sum_ == count_corpus)\n",
      "\u001b[36mCell\u001b[39m\u001b[36m \u001b[39m\u001b[32mIn[79]\u001b[39m\u001b[32m, line 3\u001b[39m, in \u001b[36mcount_word\u001b[39m\u001b[34m(word_to_count)\u001b[39m\n\u001b[32m      2\u001b[39m \u001b[38;5;28;01mdef\u001b[39;00m\u001b[38;5;250m \u001b[39m\u001b[34mcount_word\u001b[39m(word_to_count):\n\u001b[32m----> \u001b[39m\u001b[32m3\u001b[39m     \u001b[38;5;28;01mreturn\u001b[39;00m \u001b[38;5;28msum\u001b[39m(\u001b[32m1\u001b[39m \u001b[38;5;28;01mfor\u001b[39;00m document_token \u001b[38;5;129;01min\u001b[39;00m normalized_tokens \u001b[38;5;28;01mfor\u001b[39;00m word \u001b[38;5;129;01min\u001b[39;00m document_token \u001b[38;5;28;01mif\u001b[39;00m word == word_to_count)\n",
      "\u001b[36mCell\u001b[39m\u001b[36m \u001b[39m\u001b[32mIn[79]\u001b[39m\u001b[32m, line 3\u001b[39m, in \u001b[36m<genexpr>\u001b[39m\u001b[34m(.0)\u001b[39m\n\u001b[32m      2\u001b[39m \u001b[38;5;28;01mdef\u001b[39;00m\u001b[38;5;250m \u001b[39m\u001b[34mcount_word\u001b[39m(word_to_count):\n\u001b[32m----> \u001b[39m\u001b[32m3\u001b[39m     \u001b[38;5;28;01mreturn\u001b[39;00m \u001b[38;5;28msum\u001b[39m(\u001b[32m1\u001b[39m \u001b[38;5;28;01mfor\u001b[39;00m document_token \u001b[38;5;129;01min\u001b[39;00m normalized_tokens \u001b[38;5;28;01mfor\u001b[39;00m word \u001b[38;5;129;01min\u001b[39;00m document_token \u001b[38;5;28;01mif\u001b[39;00m \u001b[43mword\u001b[49m\u001b[43m \u001b[49m\u001b[43m==\u001b[49m\u001b[43m \u001b[49m\u001b[43mword_to_count\u001b[49m)\n",
      "\u001b[31mKeyboardInterrupt\u001b[39m: "
     ]
    }
   ],
   "source": [
    "# Assuming greedy generation\n",
    "# P(w) = count(w)/count(corpus)\n",
    "# we can get most frequent --- like getting highest probability -- to avoid floats\n",
    "# for now\n",
    "count_uni_dict = {} \n",
    "sum_ = 0\n",
    "for word in vocabulary:\n",
    "    count_uni_dict[word] = count_word(word)\n",
    "    sum_ += count_uni_dict[word]\n",
    "print(sum_ == count_corpus)\n",
    "\n",
    "# this code took more than 2 hrs and didn't even run.\n",
    "# I am obviously doing something wrong here and my best guess is the counting method is really bad (linear counting per word)\n",
    "# There might be some other improvements"
   ]
  },
  {
   "cell_type": "code",
   "execution_count": null,
   "id": "c735cd46",
   "metadata": {},
   "outputs": [],
   "source": []
  }
 ],
 "metadata": {
  "kernelspec": {
   "display_name": "nlp_env_py3118",
   "language": "python",
   "name": "python3"
  },
  "language_info": {
   "codemirror_mode": {
    "name": "ipython",
    "version": 3
   },
   "file_extension": ".py",
   "mimetype": "text/x-python",
   "name": "python",
   "nbconvert_exporter": "python",
   "pygments_lexer": "ipython3",
   "version": "3.11.8"
  }
 },
 "nbformat": 4,
 "nbformat_minor": 5
}
